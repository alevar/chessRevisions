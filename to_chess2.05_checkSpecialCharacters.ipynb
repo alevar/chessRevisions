{
 "cells": [
  {
   "cell_type": "code",
   "execution_count": 1,
   "metadata": {},
   "outputs": [],
   "source": [
    "# this notebook is dedicated to parsing a gff file and verifying\n",
    "# whether any entries in the gff contain misplaced special characters\n",
    "# Examples may include:\n",
    "# 1. % used not in a special-character setting\n",
    "# 2. % characters that are not permitted, such as ;,etc."
   ]
  },
  {
   "cell_type": "code",
   "execution_count": 2,
   "metadata": {},
   "outputs": [],
   "source": [
    "import os\n",
    "import sys\n",
    "import re\n",
    "from shutil import copyfile\n",
    "\n",
    "version=\"2.05\""
   ]
  },
  {
   "cell_type": "code",
   "execution_count": 3,
   "metadata": {},
   "outputs": [
    {
     "name": "stdout",
     "output_type": "stream",
     "text": [
      "{' c', '2C', '25', '3B'}\n"
     ]
    }
   ],
   "source": [
    "outFP=open(\"./chess2.05.gff\",\"w+\")\n",
    "\n",
    "# tab (%09)\n",
    "# newline (%0A)\n",
    "# carriage return (%0D)\n",
    "# % percent (%25)\n",
    "# control characters (%00 through %1F, %7F)\n",
    "\n",
    "# ; semicolon (%3B)\n",
    "# = equals (%3D)\n",
    "# & ampersand (%26)\n",
    "# , comma (%2C)\n",
    "\n",
    "special_characters=[\"%09\",\"%0A\",\"%0D\",\"%25\",\"%3B\",\"%3D\",\"%26\",\"2C\"]\n",
    "\n",
    "perc=set()\n",
    "\n",
    "with open(\"./chess2.04.gff\",\"r\") as inFP:\n",
    "    for line in inFP.readlines():\n",
    "        if line[0]==\"#\":\n",
    "            if line[:7]==\"##CHESS\":\n",
    "                outFP.write(\"##CHESS\"+version+\"\\n\")\n",
    "            else:\n",
    "                outFP.write(line)\n",
    "            continue\n",
    "        lineCols=line.split(\"\\t\")\n",
    "        tmp=re.sub(\"%(?!09|0A|0D|25|3B|3D|26|2C)\",\"pct\",lineCols[8])\n",
    "        tmp2=lineCols[8].split(\"%\")\n",
    "        if len(tmp2)>1:\n",
    "            for el in tmp2[1:]:\n",
    "                perc.add(el[:2])\n",
    "        lineCols[8]=tmp\n",
    "        outFP.write(\"\\t\".join(lineCols))\n",
    "        # now also remember what has been found\n",
    "        continue\n",
    "        \n",
    "inFP.close()\n",
    "outFP.close()\n",
    "print(perc)"
   ]
  },
  {
   "cell_type": "code",
   "execution_count": 4,
   "metadata": {
    "scrolled": false
   },
   "outputs": [
    {
     "name": "stdout",
     "output_type": "stream",
     "text": [
      "{' c', '2C', '25', '3B'}\n"
     ]
    }
   ],
   "source": [
    "outFP=open(\"./chess2.05_and_refseq.gff\",\"w+\")\n",
    "\n",
    "# tab (%09)\n",
    "# newline (%0A)\n",
    "# carriage return (%0D)\n",
    "# % percent (%25)\n",
    "# control characters (%00 through %1F, %7F)\n",
    "\n",
    "# ; semicolon (%3B)\n",
    "# = equals (%3D)\n",
    "# & ampersand (%26)\n",
    "# , comma (%2C)\n",
    "\n",
    "special_characters=[\"%09\",\"%0A\",\"%0D\",\"%25\",\"%3B\",\"%3D\",\"%26\",\"2C\"]\n",
    "\n",
    "perc=set()\n",
    "\n",
    "with open(\"./chess2.04_and_refseq.gff\",\"r\") as inFP:\n",
    "    for line in inFP.readlines():\n",
    "        if line[0]==\"#\":\n",
    "            if line[:7]==\"##CHESS\":\n",
    "                outFP.write(\"##CHESS\"+version+\"\\n\")\n",
    "            else:\n",
    "                outFP.write(line)\n",
    "            continue\n",
    "        lineCols=line.split(\"\\t\")\n",
    "        tmp=re.sub(\"%(?!09|0A|0D|25|3B|3D|26|2C)\",\"pct\",lineCols[8])\n",
    "        tmp2=lineCols[8].split(\"%\")\n",
    "        if len(tmp2)>1:\n",
    "            for el in tmp2[1:]:\n",
    "                perc.add(el[:2])\n",
    "        lineCols[8]=tmp\n",
    "        outFP.write(\"\\t\".join(lineCols))\n",
    "        # now also remember what has been found\n",
    "        continue\n",
    "        \n",
    "inFP.close()\n",
    "outFP.close()\n",
    "print(perc)"
   ]
  },
  {
   "cell_type": "code",
   "execution_count": 5,
   "metadata": {},
   "outputs": [
    {
     "name": "stdout",
     "output_type": "stream",
     "text": [
      "{' c', '2C', '25', '3B'}\n"
     ]
    }
   ],
   "source": [
    "outFP=open(\"./chess2.05_assembly.gff\",\"w+\")\n",
    "\n",
    "# tab (%09)\n",
    "# newline (%0A)\n",
    "# carriage return (%0D)\n",
    "# % percent (%25)\n",
    "# control characters (%00 through %1F, %7F)\n",
    "\n",
    "# ; semicolon (%3B)\n",
    "# = equals (%3D)\n",
    "# & ampersand (%26)\n",
    "# , comma (%2C)\n",
    "\n",
    "special_characters=[\"%09\",\"%0A\",\"%0D\",\"%25\",\"%3B\",\"%3D\",\"%26\",\"2C\"]\n",
    "\n",
    "perc=set()\n",
    "\n",
    "with open(\"./chess2.04_assembly.gff\",\"r\") as inFP:\n",
    "    for line in inFP.readlines():\n",
    "        if line[0]==\"#\":\n",
    "            if line[:7]==\"##CHESS\":\n",
    "                outFP.write(\"##CHESS\"+version+\"\\n\")\n",
    "            else:\n",
    "                outFP.write(line)\n",
    "            continue\n",
    "        lineCols=line.split(\"\\t\")\n",
    "        tmp=re.sub(\"%(?!09|0A|0D|25|3B|3D|26|2C)\",\"pct\",lineCols[8])\n",
    "        tmp2=lineCols[8].split(\"%\")\n",
    "        if len(tmp2)>1:\n",
    "            for el in tmp2[1:]:\n",
    "                perc.add(el[:2])\n",
    "        lineCols[8]=tmp\n",
    "        outFP.write(\"\\t\".join(lineCols))\n",
    "        # now also remember what has been found\n",
    "        continue\n",
    "        \n",
    "inFP.close()\n",
    "outFP.close()\n",
    "print(perc)"
   ]
  },
  {
   "cell_type": "code",
   "execution_count": 6,
   "metadata": {},
   "outputs": [
    {
     "data": {
      "text/plain": [
       "'./chess2.05.transcripts'"
      ]
     },
     "execution_count": 6,
     "metadata": {},
     "output_type": "execute_result"
    }
   ],
   "source": [
    "# now just need to copy mapfile, genes and transcripts files\n",
    "copyfile(\"./mapfile2.04.txt\",\"./mapfile2.05.txt\")\n",
    "copyfile(\"./chess2.04.genes\",\"./chess2.05.genes\")\n",
    "copyfile(\"./chess2.04.transcripts\",\"./chess2.05.transcripts\")"
   ]
  },
  {
   "cell_type": "code",
   "execution_count": 7,
   "metadata": {},
   "outputs": [],
   "source": [
    "# as we parse the file we need to add each occurrence of \"%\"\n",
    "# to a set followed by two characters\n",
    "# then we can inspect the contents of the set to see\n",
    "# if we might have accidentally missed/replaced something"
   ]
  }
 ],
 "metadata": {
  "kernelspec": {
   "display_name": "Python 3",
   "language": "python",
   "name": "python3"
  },
  "language_info": {
   "codemirror_mode": {
    "name": "ipython",
    "version": 3
   },
   "file_extension": ".py",
   "mimetype": "text/x-python",
   "name": "python",
   "nbconvert_exporter": "python",
   "pygments_lexer": "ipython3",
   "version": "3.6.6"
  }
 },
 "nbformat": 4,
 "nbformat_minor": 2
}
