{
 "cells": [
  {
   "cell_type": "code",
   "execution_count": 1,
   "metadata": {},
   "outputs": [],
   "source": [
    "from itertools import groupby\n",
    "from operator import itemgetter"
   ]
  },
  {
   "cell_type": "code",
   "execution_count": 3,
   "metadata": {},
   "outputs": [],
   "source": [
    "# this notebook is dedicated to evaluating the nonesense-mediated decay"
   ]
  },
  {
   "cell_type": "code",
   "execution_count": 38,
   "metadata": {},
   "outputs": [
    {
     "data": {
      "text/plain": [
       "5"
      ]
     },
     "execution_count": 38,
     "metadata": {},
     "output_type": "execute_result"
    }
   ],
   "source": [
    "def nmdDist(orf,chain,strand):\n",
    "    if strand==\"+\":\n",
    "        strand=\"-\"\n",
    "    else:\n",
    "        strand=\"+\"\n",
    "        \n",
    "    if strand==\"+\":\n",
    "        tmp=orf.split('-')\n",
    "        orfStarts=[int(x) for x in tmp[0].split(',')]\n",
    "        orfEnds=[int(x) for x in tmp[-1].split(',')]\n",
    "        tmp=chain.split('-')\n",
    "        chainStarts=[int(x) for x in tmp[0].split(',')]\n",
    "        chainEnds=[int(x) for x in tmp[-1].split(',')]\n",
    "        \n",
    "        orf=[]\n",
    "        for t in zip(orfStarts,orfEnds):\n",
    "            orf+=list(range(t[0],t[1]+1))\n",
    "        chain=[]\n",
    "        for t in zip(chainStarts,chainEnds):\n",
    "            chain+=list(range(t[0],t[1]+1))\n",
    "            \n",
    "#         print(orf)\n",
    "#         print(chain)\n",
    "        if len(set(chain).union(set(orf)))<3:\n",
    "            return 66666\n",
    "        chain=[x for x in chain if x<orf[0]]\n",
    "        if len(chain)==0:\n",
    "            return 0\n",
    "#         print(chain)\n",
    "        \n",
    "        prevNT=0\n",
    "        exons=0\n",
    "        dist=0\n",
    "        for nt in chain:\n",
    "            if prevNT-nt<-1:\n",
    "                exons+=1\n",
    "            if exons>0:\n",
    "                dist+=1\n",
    "            prevNT=nt\n",
    "        return dist\n",
    "    else:\n",
    "        tmp=orf.split('-')\n",
    "        orfStarts=[int(x) for x in tmp[0].split(',')]\n",
    "        orfEnds=[int(x) for x in tmp[-1].split(',')]\n",
    "        tmp=chain.split('-')\n",
    "        chainStarts=[int(x) for x in tmp[0].split(',')]\n",
    "        chainEnds=[int(x) for x in tmp[-1].split(',')]\n",
    "        \n",
    "        orf=[]\n",
    "        for t in zip(orfStarts,orfEnds):\n",
    "            orf+=list(range(t[0],t[1]+1))\n",
    "        orf=orf[::-1]\n",
    "        chain=[]\n",
    "        for t in zip(chainStarts,chainEnds):\n",
    "            chain+=list(range(t[0],t[1]+1))\n",
    "        chain=chain[::-1]\n",
    "        \n",
    "#         print(orf)\n",
    "#         print(chain)\n",
    "        if len(set(chain).union(set(orf)))<3: # non compatible - report\n",
    "            return 66666\n",
    "        chain=[x for x in chain if x>orf[0]]\n",
    "#         print(chain)\n",
    "        if len(chain)==0:\n",
    "            return 0\n",
    "        \n",
    "        prevNT=0\n",
    "        exons=0\n",
    "        dist=0\n",
    "        for nt in chain: # iterate over chain to see if any of novel transcripts have nonesense-mediated decay due to length (the function does not evaluate NMD due to premature codon\n",
    "            if nt-prevNT<-1:\n",
    "                exons+=1\n",
    "            if exons>0:\n",
    "                dist+=1\n",
    "            prevNT=nt\n",
    "        return dist\n",
    "    \n",
    "orf=\"2,8-5,11\"\n",
    "chain=\"5,8,20-5,16,25\"\n",
    "strand=\"+\"\n",
    "nmdDist(orf,chain,strand)"
   ]
  },
  {
   "cell_type": "code",
   "execution_count": null,
   "metadata": {},
   "outputs": [],
   "source": [
    "# "
   ]
  }
 ],
 "metadata": {
  "kernelspec": {
   "display_name": "Python 3",
   "language": "python",
   "name": "python3"
  },
  "language_info": {
   "codemirror_mode": {
    "name": "ipython",
    "version": 3
   },
   "file_extension": ".py",
   "mimetype": "text/x-python",
   "name": "python",
   "nbconvert_exporter": "python",
   "pygments_lexer": "ipython3",
   "version": "3.6.5"
  }
 },
 "nbformat": 4,
 "nbformat_minor": 2
}
