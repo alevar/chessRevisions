{
 "cells": [
  {
   "cell_type": "code",
   "execution_count": 1,
   "metadata": {},
   "outputs": [],
   "source": [
    "# get only the longest protein sequence for each protein-coding gene\n",
    "import os\n",
    "import sys\n",
    "import subprocess"
   ]
  },
  {
   "cell_type": "code",
   "execution_count": 12,
   "metadata": {},
   "outputs": [],
   "source": [
    "gff_fname = \"/home/varabyou/genomicData/hg38/annotations/chess2.2.gff\"\n",
    "prot_tmp_fname = \"/home/varabyou/genomicData/hg38/annotations/chess2.2.prot.tmp.fasta\"\n",
    "prot_longest_fname = \"/home/varabyou/genomicData/hg38/annotations/chess2.2.protein.longest.fa\"\n",
    "prot_all_fname = \"/home/varabyou/genomicData/hg38/annotations/chess2.2.protein.all.fa\"\n",
    "ref_fname = \"/home/varabyou/genomicData/hg38/hg38_p8.fa\"\n",
    "\n",
    "gffread_path = \"/home/varabyou/soft/gffread/gffread\""
   ]
  },
  {
   "cell_type": "code",
   "execution_count": 3,
   "metadata": {},
   "outputs": [
    {
     "data": {
      "text/plain": [
       "0"
      ]
     },
     "execution_count": 3,
     "metadata": {},
     "output_type": "execute_result"
    }
   ],
   "source": [
    "subprocess.call([gffread_path,gff_fname,\"-g\",ref_fname,\"-y\",prot_tmp_fname,])"
   ]
  },
  {
   "cell_type": "code",
   "execution_count": 13,
   "metadata": {},
   "outputs": [],
   "source": [
    "# the dictionary is going to hold the following\n",
    "# 1st level - geneID\n",
    "# 2nd level - sequence\n",
    "# 3rd level - all transcript ids that contain this sequence\n",
    "res = dict()\n",
    "\n",
    "cur_seq = \"\"\n",
    "\n",
    "gID = \"\"\n",
    "tID = \"\"\n",
    "\n",
    "first = True\n",
    "\n",
    "with open(prot_tmp_fname,\"r\") as inFP:\n",
    "    for line in inFP.readlines():\n",
    "        if line[0]==\">\":\n",
    "            if not first:\n",
    "                res.setdefault(gID,dict()).setdefault(cur_seq,[]).append(tID)\n",
    "            first = False\n",
    "            cur_seq = \"\"\n",
    "            tID = line.strip()[1:]\n",
    "            gID = \".\".join(tID.split(\".\")[:2])\n",
    "        else:\n",
    "            cur_seq+=line.strip()\n",
    "    if not first:\n",
    "        res.setdefault(gID,dict()).setdefault(cur_seq,[]).append(tID)"
   ]
  },
  {
   "cell_type": "code",
   "execution_count": 14,
   "metadata": {},
   "outputs": [],
   "source": [
    "# output longest sequences only\n",
    "outFP = open(prot_longest_fname,\"w+\")\n",
    "for k,v in res.items():\n",
    "    max_len = max(map(len,list(v)))\n",
    "    longests = [x for x in list(v) if len(x) == max_len]\n",
    "    for l in longests:\n",
    "        outFP.write(\">\"+\"|\".join(v[l])+\"\\n\")\n",
    "        outFP.write(l+\"\\n\")\n",
    "outFP.close()"
   ]
  },
  {
   "cell_type": "code",
   "execution_count": 15,
   "metadata": {},
   "outputs": [],
   "source": [
    "# output all non-redundant sequences only\n",
    "outFP = open(prot_all_fname,\"w+\")\n",
    "for k,v in res.items():\n",
    "    for seq in (list(v)):\n",
    "        outFP.write(\">\"+\"|\".join(v[seq])+\"\\n\")\n",
    "        outFP.write(seq+\"\\n\")\n",
    "outFP.close()"
   ]
  }
 ],
 "metadata": {
  "kernelspec": {
   "display_name": "Python 3",
   "language": "python",
   "name": "python3"
  },
  "language_info": {
   "codemirror_mode": {
    "name": "ipython",
    "version": 3
   },
   "file_extension": ".py",
   "mimetype": "text/x-python",
   "name": "python",
   "nbconvert_exporter": "python",
   "pygments_lexer": "ipython3",
   "version": "3.7.3"
  }
 },
 "nbformat": 4,
 "nbformat_minor": 2
}
