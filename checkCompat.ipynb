{
 "cells": [
  {
   "cell_type": "code",
   "execution_count": 1,
   "metadata": {},
   "outputs": [],
   "source": [
    "from itertools import groupby\n",
    "from operator import itemgetter"
   ]
  },
  {
   "cell_type": "code",
   "execution_count": 33,
   "metadata": {},
   "outputs": [
    {
     "name": "stdout",
     "output_type": "stream",
     "text": [
      "[1, 2, 3, 7, 8, 9, 10, 11, 12, 13, 14, 15]\n",
      "[2, 3, 7, 8, 9, 10, 11, 12, 13, 14, 15]\n",
      "[[6]]\n"
     ]
    },
    {
     "data": {
      "text/plain": [
       "2"
      ]
     },
     "execution_count": 33,
     "metadata": {},
     "output_type": "execute_result"
    }
   ],
   "source": [
    "# checkCompat is not dependent on the strand of either the exon chain or the orf unlike the startTrim and endTrim functions\n",
    "def checkCompat(orf,chain,strand):\n",
    "    tmp=orf.split(\"-\")\n",
    "    orfStarts=[int(x) for x in tmp[0].split(\",\")]\n",
    "    orfEnds=[int(x) for x in tmp[-1].split(\",\")]\n",
    "    \n",
    "    # next we need to parse the exons in the same manner\n",
    "    tmp=chain.split(\"-\")\n",
    "    chainStarts=[int(x) for x in tmp[0].split(\",\")]\n",
    "    chainEnds=[int(x) for x in tmp[-1].split(\",\")]\n",
    "    \n",
    "    orf=[]\n",
    "    for t in zip(orfStarts,orfEnds):\n",
    "        orf+=list(range(t[0],t[1]+1))\n",
    "    \n",
    "    chain=[]\n",
    "    for t in zip(chainStarts,chainEnds):\n",
    "        chain+=list(range(t[0],t[1]+1))\n",
    "\n",
    "    # now remove anything in the chain that is before or after the start and end of the ORF\n",
    "    print(orf)\n",
    "    # trim the end\n",
    "    if strand==\"+\":\n",
    "        orf=[x for x in orf if x<=chain[-1]]\n",
    "    else:\n",
    "        orf=[x for x in orf if x>=chain[0]]\n",
    "    print(orf)\n",
    "    if len(orf)==0:\n",
    "        return 7777777\n",
    "    chain=[x for x in chain if x>=orf[0] and x<=orf[-1]]\n",
    "    \n",
    "    orf=set(orf)\n",
    "    chain=set(chain)\n",
    "    \n",
    "    # now get set differences\n",
    "    orf_chain=orf-chain\n",
    "    chain_orf=chain-orf\n",
    "    \n",
    "    if len(orf_chain)==0 and len(chain_orf)==0:\n",
    "        return 0\n",
    "    \n",
    "    allMis=[]\n",
    "    for k, g in groupby(enumerate(orf_chain), lambda ix : ix[0] - ix[1]):\n",
    "        allMis.append(list(map(itemgetter(1), g)))\n",
    "    for k, g in groupby(enumerate(chain_orf), lambda ix : ix[0] - ix[1]):\n",
    "        allMis.append(list(map(itemgetter(1), g)))\n",
    "        \n",
    "    print(allMis)\n",
    "    \n",
    "    # for now this will be a very easy thing to do\n",
    "    # would be better to have a method for computing how many bases are in off-frame vs on-frame regions\n",
    "    for mis in allMis:\n",
    "        if not len(mis)%3==0:\n",
    "            return 2\n",
    "    return 1\n",
    "    \n",
    "orf3=\"1,7-3,15\"\n",
    "chain17=\"2,6-3,15\"\n",
    "strand=\"-\"\n",
    "checkCompat(orf3,chain17,strand)\n",
    "\n",
    "# need to figure out a way to replace the codes with percentage as follows:\n",
    "# (number of bases in off-frame)/(total number of bases in the ORF)"
   ]
  },
  {
   "cell_type": "code",
   "execution_count": 1,
   "metadata": {},
   "outputs": [],
   "source": [
    "# now need ot figure out a way to modify the given checkCompat function in such a way that\n",
    "# end trimming and extension do not contribute to the modifications in any way\n"
   ]
  },
  {
   "cell_type": "code",
   "execution_count": null,
   "metadata": {},
   "outputs": [],
   "source": [
    "# now the goal is to figure what some of the special characters mean - they account for the 1 percent difference"
   ]
  }
 ],
 "metadata": {
  "kernelspec": {
   "display_name": "Python 3",
   "language": "python",
   "name": "python3"
  },
  "language_info": {
   "codemirror_mode": {
    "name": "ipython",
    "version": 3
   },
   "file_extension": ".py",
   "mimetype": "text/x-python",
   "name": "python",
   "nbconvert_exporter": "python",
   "pygments_lexer": "ipython3",
   "version": "3.6.5"
  }
 },
 "nbformat": 4,
 "nbformat_minor": 2
}
